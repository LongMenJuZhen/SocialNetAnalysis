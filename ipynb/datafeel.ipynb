{
 "cells": [
  {
   "metadata": {
    "collapsed": true,
    "ExecuteTime": {
     "end_time": "2024-12-11T09:29:50.456858Z",
     "start_time": "2024-12-11T09:29:41.432808Z"
    }
   },
   "cell_type": "code",
   "source": [
    "import pandas as pd\n",
    "import matplotlib.pyplot as plt\n",
    "# 读取 CSV 文件，跳过有错误的行\n",
    "df = pd.read_csv('../data/TMT_FIGUREINFO.csv', on_bad_lines='skip')"
   ],
   "id": "initial_id",
   "outputs": [
    {
     "name": "stderr",
     "output_type": "stream",
     "text": [
      "C:\\Users\\cyc313\\AppData\\Local\\Temp\\ipykernel_26604\\2537682830.py:4: DtypeWarning: Columns (0,2,6,8,10,12,17,18,21,22,24,25,26) have mixed types. Specify dtype option on import or set low_memory=False.\n",
      "  df = pd.read_csv('../data/TMT_FIGUREINFO.csv', on_bad_lines='skip')\n"
     ]
    }
   ],
   "execution_count": 15
  },
  {
   "metadata": {
    "ExecuteTime": {
     "end_time": "2024-12-11T09:29:50.864477Z",
     "start_time": "2024-12-11T09:29:50.462813Z"
    }
   },
   "cell_type": "code",
   "source": [
    "# 删除重复的行\n",
    "# df = df.drop_duplicates(subset='PersonID', keep='first')\n",
    "# 筛选出 Director_ListCO 列不为 0 的行\n",
    "filtered_df = df[df['Director_ListCO'] == 0]"
   ],
   "id": "271952e715a3a10a",
   "outputs": [],
   "execution_count": 16
  },
  {
   "metadata": {
    "ExecuteTime": {
     "end_time": "2024-12-11T09:29:51.340857Z",
     "start_time": "2024-12-11T09:29:50.883301Z"
    }
   },
   "cell_type": "code",
   "source": "print(filtered_df)",
   "id": "cd0ba1e1e046b16d",
   "outputs": [
    {
     "name": "stdout",
     "output_type": "stream",
     "text": [
      "          Stkcd      Reptdt    PersonID Name Nationality NativePlace  \\\n",
      "0        000001  1999-12-31   3091318.0  肖少联     中华人民共和国         NaN   \n",
      "1        000001  1999-12-31    309374.0  张润深         NaN         NaN   \n",
      "2        000001  1999-12-31  30126832.0  金式如     中华人民共和国         NaN   \n",
      "3        000001  1999-12-31    309376.0  王玉洁         NaN         NaN   \n",
      "4        000001  1999-12-31  30129324.0  采振祥     中华人民共和国         NaN   \n",
      "...         ...         ...         ...  ...         ...         ...   \n",
      "1000158  600792  2010-12-31     3078526   张峻     中华人民共和国         NaN   \n",
      "1000159  600792  2010-12-31     3087802  杨授诚     中华人民共和国         NaN   \n",
      "1000160  600792  2010-12-31    30173032  朱锦余         NaN         NaN   \n",
      "1000161  600792  2011-12-31     3078526   张峻     中华人民共和国         NaN   \n",
      "1000162  600792  2011-12-31     3087802  杨授诚     中华人民共和国         NaN   \n",
      "\n",
      "        NatAreaCode BirthPlace BirAreaCode Gender  ... Funback OveseaBack  \\\n",
      "0               NaN        NaN         NaN      男  ...     NaN        NaN   \n",
      "1               NaN        NaN         NaN      男  ...     NaN        NaN   \n",
      "2               NaN        NaN         NaN      男  ...     NaN        NaN   \n",
      "3               NaN        NaN         NaN      女  ...     NaN        NaN   \n",
      "4               NaN        NaN         NaN      男  ...     NaN        NaN   \n",
      "...             ...        ...         ...    ...  ...     ...        ...   \n",
      "1000158         NaN        NaN         NaN      男  ...     1,5          3   \n",
      "1000159         NaN        NaN         NaN      男  ...       5          3   \n",
      "1000160         NaN        NaN         NaN      男  ...     5,8          3   \n",
      "1000161         NaN        NaN         NaN      男  ...     1,5          3   \n",
      "1000162         NaN        NaN         NaN      男  ...       5          3   \n",
      "\n",
      "        Academic FinBack IsCocurP  OtherCo OtherCoType Director_TotCO  \\\n",
      "0            NaN     NaN      0.0      NaN         NaN            0.0   \n",
      "1            NaN     NaN      0.0      NaN         NaN            0.0   \n",
      "2            NaN     NaN      0.0      NaN         NaN            0.0   \n",
      "3            NaN     NaN      0.0      NaN         NaN            0.0   \n",
      "4            NaN     NaN      0.0      NaN         NaN            0.0   \n",
      "...          ...     ...      ...      ...         ...            ...   \n",
      "1000158        4      99      1.0  战略发展部部长         4.0            0.0   \n",
      "1000159        4      99      1.0       董事         4.0            4.0   \n",
      "1000160      1,2      99      0.0      NaN         NaN            0.0   \n",
      "1000161        4      99      0.0      NaN         NaN            0.0   \n",
      "1000162        4      99      0.0      NaN         NaN            0.0   \n",
      "\n",
      "        Director_ListCO  Stkcd_director  \n",
      "0                   0.0             NaN  \n",
      "1                   0.0             NaN  \n",
      "2                   0.0             NaN  \n",
      "3                   0.0             NaN  \n",
      "4                   0.0             NaN  \n",
      "...                 ...             ...  \n",
      "1000158             0.0             NaN  \n",
      "1000159             0.0             NaN  \n",
      "1000160             0.0             NaN  \n",
      "1000161             0.0             NaN  \n",
      "1000162             0.0             NaN  \n",
      "\n",
      "[927114 rows x 41 columns]\n"
     ]
    }
   ],
   "execution_count": 17
  },
  {
   "metadata": {
    "ExecuteTime": {
     "end_time": "2024-12-11T09:29:51.801249Z",
     "start_time": "2024-12-11T09:29:51.374366Z"
    }
   },
   "cell_type": "code",
   "source": [
    "# 可视化 Director_ListCO 的分布\n",
    "plt.hist(df['Director_ListCO'], bins=8,log=True, edgecolor='k')\n",
    "plt.xlabel('Director_ListCO')\n",
    "plt.ylabel('Frequency')\n",
    "plt.title('Distribution of Director_ListCO')\n",
    "# 在每个直方上标上对应的数\n",
    "counts, bins, patches = plt.hist(df['Director_ListCO'], bins=8, log=True, edgecolor='k')\n",
    "for count, patch in zip(counts, patches):\n",
    "    plt.text(patch.get_x() + patch.get_width() / 2, count, int(count), ha='center', va='bottom')\n",
    "# 显示图例\n",
    "# plt.show()\n",
    "# 打印筛选后的数据\n",
    "# pd.set_option('display.max_columns', None)\n",
    "# pd.set_option('display.max_rows', None)"
   ],
   "id": "5d8223cdec38a5b8",
   "outputs": [
    {
     "data": {
      "text/plain": [
       "<Figure size 640x480 with 1 Axes>"
      ],
      "image/png": "[encoded data removed]"
     },
     "metadata": {},
     "output_type": "display_data"
    }
   ],
   "execution_count": 18
  },
  {
   "metadata": {
    "ExecuteTime": {
     "end_time": "2024-12-11T09:29:51.823612Z",
     "start_time": "2024-12-11T09:29:51.820516Z"
    }
   },
   "cell_type": "code",
   "source": "",
   "id": "bc2c29442ad311e9",
   "outputs": [],
   "execution_count": null
  }
 ],
 "metadata": {
  "kernelspec": {
   "display_name": "Python 3",
   "language": "python",
   "name": "python3"
  },
  "language_info": {
   "codemirror_mode": {
    "name": "ipython",
    "version": 2
   },
   "file_extension": ".py",
   "mimetype": "text/x-python",
   "name": "python",
   "nbconvert_exporter": "python",
   "pygments_lexer": "ipython2",
   "version": "2.7.6"
  }
 },
 "nbformat": 4,
 "nbformat_minor": 5
}
